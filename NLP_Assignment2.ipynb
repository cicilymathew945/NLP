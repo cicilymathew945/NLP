{
 "cells": [
  {
   "cell_type": "code",
   "execution_count": 31,
   "id": "8bac488c",
   "metadata": {},
   "outputs": [],
   "source": [
    "#import data\n",
    "import pandas as pd\n",
    "url = \"https://storage.googleapis.com/adsp-nlp-open/data/elsevier-oa-cc-by/abstracts.json\"\n",
    "data = pd.read_json(url, orient=\"records\")"
   ]
  },
  {
   "cell_type": "code",
   "execution_count": 32,
   "id": "1d859339",
   "metadata": {},
   "outputs": [
    {
     "name": "stdout",
     "output_type": "stream",
     "text": [
      "['phys_sci' 'healh_sci' 'engi_tech' 'life_sci' 'soc_sci']\n"
     ]
    }
   ],
   "source": [
    "# View the target data columns\n",
    "data.head()\n",
    "subject=data['subject'].unique()\n",
    "print(subject)"
   ]
  },
  {
   "cell_type": "markdown",
   "id": "3e5a4c8d",
   "metadata": {},
   "source": [
    "The data comes with \"title\" and \"abstract\" fields. You may use either (or both) for your modeling.\n",
    "Using both gave better results hence using it to compare the models using techniques of BOW and Lemmatization"
   ]
  },
  {
   "cell_type": "code",
   "execution_count": 33,
   "id": "8ba23dbb",
   "metadata": {},
   "outputs": [],
   "source": [
    "#import labelencoder and combine 2 columns\n",
    "from sklearn.preprocessing import LabelEncoder\n",
    "encoder=LabelEncoder()\n",
    "#fit the encoder\n",
    "data['subject_encoded']=encoder.fit_transform(data['subject'])\n",
    "data['text']=data['abstract']+' ' +data['title']"
   ]
  },
  {
   "cell_type": "code",
   "execution_count": 34,
   "id": "c03221d9",
   "metadata": {},
   "outputs": [],
   "source": [
    "#clean\n",
    "import re\n",
    "def clean_text(text):\n",
    "    text = re.sub(r'[^a-zA-Z0-9\\s]', '', text)  # Remove special characters\n",
    "    text = re.sub(r'\\s+', ' ', text)  # Remove extra spaces\n",
    "    text=text.lower()  # Convert to lowercase\n",
    "    return text.strip() \n",
    "\n",
    "data['cleaned_text'] = data['text'].apply(clean_text)\n"
   ]
  },
  {
   "cell_type": "code",
   "execution_count": 35,
   "id": "cd98a1aa",
   "metadata": {},
   "outputs": [],
   "source": [
    "#vectorization using bag of words\n",
    "from sklearn.feature_extraction.text import CountVectorizer\n",
    "vectorizer = CountVectorizer(max_features=1000, stop_words='english')  # Limit to 1000 features for simplicity\n",
    "X = vectorizer.fit_transform(data['cleaned_text'])\n",
    "#target variable\n",
    "y = data['subject_encoded']\n",
    "#get feature names\n",
    "words=vectorizer.get_feature_names_out()"
   ]
  },
  {
   "cell_type": "code",
   "execution_count": 36,
   "id": "44e63411",
   "metadata": {},
   "outputs": [],
   "source": [
    "#train test split\n",
    "from sklearn.model_selection import train_test_split\n",
    "X_train, X_test, y_train, y_test = train_test_split(X, y, test_size=0.2, random_state=42)"
   ]
  },
  {
   "cell_type": "markdown",
   "id": "0868fb95",
   "metadata": {},
   "source": [
    "#Model 1: Ensemble of 1000 logistic regression model using BOW"
   ]
  },
  {
   "cell_type": "code",
   "execution_count": 37,
   "id": "a272a720",
   "metadata": {},
   "outputs": [
    {
     "name": "stdout",
     "output_type": "stream",
     "text": [
      "Accuracy: 0.6539157405014215\n",
      "Classification Report:\n",
      "              precision    recall  f1-score   support\n",
      "\n",
      "   engi_tech       0.71      0.70      0.71      1809\n",
      "   healh_sci       0.75      0.72      0.73      1525\n",
      "    life_sci       0.60      0.47      0.53      1191\n",
      "    phys_sci       0.60      0.68      0.64      2578\n",
      "     soc_sci       0.60      0.60      0.60       635\n",
      "\n",
      "    accuracy                           0.65      7738\n",
      "   macro avg       0.65      0.63      0.64      7738\n",
      "weighted avg       0.66      0.65      0.65      7738\n",
      "\n"
     ]
    }
   ],
   "source": [
    "import pandas as pd\n",
    "from sklearn.feature_extraction.text import CountVectorizer\n",
    "from sklearn.model_selection import train_test_split\n",
    "from sklearn.linear_model import LogisticRegression\n",
    "from sklearn.ensemble import BaggingClassifier\n",
    "from sklearn.metrics import accuracy_score, classification_report\n",
    "\n",
    "# Step 1: Vectorize the text data using CountVectorizer\n",
    "vectorizer = CountVectorizer(max_features=1000, stop_words='english')  # Limit to 1000 features for simplicity\n",
    "X = vectorizer.fit_transform(data['cleaned_text'])\n",
    "\n",
    "# Step 2: Define the target variable\n",
    "y = data['subject_encoded']\n",
    "\n",
    "# Step 3: Split the data into training and testing sets\n",
    "X_train, X_test, y_train, y_test = train_test_split(X, y, test_size=0.2, random_state=42)\n",
    "\n",
    "# Step 4: Initialize the Logistic Regression model\n",
    "classifier1 = LogisticRegression(max_iter=1000)\n",
    "\n",
    "# Step 5: Create an ensemble of Logistic Regression models using BaggingClassifier\n",
    "ensemble = BaggingClassifier(estimator=classifier1, n_estimators=1000, random_state=42, n_jobs=-1)\n",
    "\n",
    "# Step 6: Train the ensemble model\n",
    "ensemble.fit(X_train, y_train)\n",
    "\n",
    "# Step 7: Predict on the test set\n",
    "y_pred1 = ensemble.predict(X_test)\n",
    "\n",
    "# Step 8: Evaluate the performance of the model\n",
    "accuracy = accuracy_score(y_test, y_pred1)\n",
    "class_report = classification_report(y_test, y_pred1, target_names=encoder.classes_)\n",
    "\n",
    "# Print results\n",
    "print(f\"Accuracy: {accuracy}\")\n",
    "print(\"Classification Report:\")\n",
    "print(class_report)\n"
   ]
  },
  {
   "cell_type": "code",
   "execution_count": 43,
   "id": "f762ca03",
   "metadata": {},
   "outputs": [
    {
     "ename": "ValueError",
     "evalue": "Inconsistent sample sizes: y_test (19572) and y_pred1 (7738)",
     "output_type": "error",
     "traceback": [
      "\u001b[1;31m---------------------------------------------------------------------------\u001b[0m",
      "\u001b[1;31mValueError\u001b[0m                                Traceback (most recent call last)",
      "Cell \u001b[1;32mIn[43], line 10\u001b[0m\n\u001b[0;32m      8\u001b[0m \u001b[38;5;66;03m# Ensure y_test and y_pred1 have consistent sizes\u001b[39;00m\n\u001b[0;32m      9\u001b[0m \u001b[38;5;28;01mif\u001b[39;00m \u001b[38;5;28mlen\u001b[39m(y_test) \u001b[38;5;241m!=\u001b[39m \u001b[38;5;28mlen\u001b[39m(y_pred1):\n\u001b[1;32m---> 10\u001b[0m \t\u001b[38;5;28;01mraise\u001b[39;00m \u001b[38;5;167;01mValueError\u001b[39;00m(\u001b[38;5;124mf\u001b[39m\u001b[38;5;124m\"\u001b[39m\u001b[38;5;124mInconsistent sample sizes: y_test (\u001b[39m\u001b[38;5;132;01m{\u001b[39;00m\u001b[38;5;28mlen\u001b[39m(y_test)\u001b[38;5;132;01m}\u001b[39;00m\u001b[38;5;124m) and y_pred1 (\u001b[39m\u001b[38;5;132;01m{\u001b[39;00m\u001b[38;5;28mlen\u001b[39m(y_pred1)\u001b[38;5;132;01m}\u001b[39;00m\u001b[38;5;124m)\u001b[39m\u001b[38;5;124m\"\u001b[39m)\n\u001b[0;32m     12\u001b[0m cm \u001b[38;5;241m=\u001b[39m confusion_matrix(y_test, y_pred1)\n\u001b[0;32m     13\u001b[0m cm_display \u001b[38;5;241m=\u001b[39m ConfusionMatrixDisplay(confusion_matrix\u001b[38;5;241m=\u001b[39mcm, display_labels\u001b[38;5;241m=\u001b[39mencoder\u001b[38;5;241m.\u001b[39mclasses_)\n",
      "\u001b[1;31mValueError\u001b[0m: Inconsistent sample sizes: y_test (19572) and y_pred1 (7738)"
     ]
    },
    {
     "data": {
      "text/plain": [
       "<Figure size 1000x700 with 0 Axes>"
      ]
     },
     "metadata": {},
     "output_type": "display_data"
    }
   ],
   "source": [
    "#confusion matrix of model 1\n",
    "import matplotlib.pyplot as plt\n",
    "import seaborn as sns\n",
    "from sklearn.metrics import ConfusionMatrixDisplay\n",
    "from sklearn.metrics import confusion_matrix\n",
    "import numpy as np\n",
    "plt.figure(figsize=(10, 7))\n",
    "cm = confusion_matrix(y_test, y_pred1)\n",
    "cm_display = ConfusionMatrixDisplay(confusion_matrix=cm, display_labels=encoder.classes_)\n",
    "cm_display.plot(cmap=plt.cm.Blues, values_format='d')\n",
    "plt.title('Confusion Matrix Model 1')\n",
    "plt.show()"
   ]
  },
  {
   "cell_type": "markdown",
   "id": "dc1f4bf8",
   "metadata": {},
   "source": [
    "#Model 2: Using Logistic regression with Lemmatization + BOW for prediction"
   ]
  },
  {
   "cell_type": "code",
   "execution_count": 38,
   "id": "741b0d6a",
   "metadata": {},
   "outputs": [
    {
     "name": "stderr",
     "output_type": "stream",
     "text": [
      "[nltk_data] Downloading package stopwords to\n",
      "[nltk_data]     C:\\Users\\cicily.mathew\\AppData\\Roaming\\nltk_data...\n",
      "[nltk_data]   Package stopwords is already up-to-date!\n",
      "[nltk_data] Downloading package wordnet to\n",
      "[nltk_data]     C:\\Users\\cicily.mathew\\AppData\\Roaming\\nltk_data...\n",
      "[nltk_data]   Package wordnet is already up-to-date!\n"
     ]
    },
    {
     "name": "stdout",
     "output_type": "stream",
     "text": [
      "Accuracy: 0.6561126906177307\n",
      "Classification Report:\n",
      "              precision    recall  f1-score   support\n",
      "\n",
      "   engi_tech       0.71      0.71      0.71      1809\n",
      "   healh_sci       0.74      0.72      0.73      1525\n",
      "    life_sci       0.61      0.46      0.53      1191\n",
      "    phys_sci       0.60      0.68      0.64      2578\n",
      "     soc_sci       0.60      0.62      0.61       635\n",
      "\n",
      "    accuracy                           0.66      7738\n",
      "   macro avg       0.65      0.64      0.64      7738\n",
      "weighted avg       0.66      0.66      0.65      7738\n",
      "\n"
     ]
    }
   ],
   "source": [
    "import pandas as pd\n",
    "from sklearn.model_selection import train_test_split\n",
    "from sklearn.feature_extraction.text import CountVectorizer\n",
    "from sklearn.linear_model import LogisticRegression\n",
    "from sklearn.metrics import accuracy_score, classification_report\n",
    "from nltk.stem import WordNetLemmatizer\n",
    "from nltk.corpus import stopwords\n",
    "import nltk\n",
    "import re\n",
    "\n",
    "# Download necessary NLTK resources\n",
    "nltk.download('stopwords')\n",
    "nltk.download('wordnet')\n",
    "\n",
    "# Initialize lemmatizer and stopwords\n",
    "lemmatizer = WordNetLemmatizer()\n",
    "stop_words = set(stopwords.words('english'))\n",
    "\n",
    "# Function to clean and lemmatize text\n",
    "def preprocess_text(text):\n",
    "    # Convert to lowercase\n",
    "    text = text.lower()\n",
    "    \n",
    "    # Remove punctuation and special characters\n",
    "    text = re.sub(r'[^\\w\\s]', '', text)\n",
    "    \n",
    "    # Tokenize and remove stopwords\n",
    "    tokens = [word for word in text.split() if word not in stop_words]\n",
    "    \n",
    "    # Lemmatize each word\n",
    "    tokens = [lemmatizer.lemmatize(word) for word in tokens]\n",
    "    \n",
    "    # Join the tokens back into a string\n",
    "    return \" \".join(tokens)\n",
    "\n",
    "# Assuming 'data' is a DataFrame with 'cleaned_abstract' and 'subject_encoded' columns\n",
    "data['cleaned_text_lemmatized'] = data['cleaned_text'].apply(preprocess_text)\n",
    "\n",
    "# Vectorize the cleaned abstract using CountVectorizer or TfidfVectorizer\n",
    "vectorizer = CountVectorizer(max_features=1000)  # Limit to 1000 features for simplicity\n",
    "XX = vectorizer.fit_transform(data['cleaned_text_lemmatized'])\n",
    "\n",
    "# Target variable\n",
    "y = data['subject_encoded']\n",
    "\n",
    "# Split the data into training and testing sets\n",
    "XX_train, XX_test, y_train, y_test = train_test_split(XX, y, test_size=0.2, random_state=42)\n",
    "\n",
    "# Initialize the Logistic Regression classifier\n",
    "classifier2 = LogisticRegression(max_iter=500)  # Increase max_iter to ensure convergence\n",
    "\n",
    "# Train the model\n",
    "classifier2.fit(XX_train, y_train)\n",
    "\n",
    "# Make predictions\n",
    "y_pred2 = classifier2.predict(XX_test)\n",
    "\n",
    "# Evaluate the model\n",
    "accuracy = accuracy_score(y_test, y_pred2)\n",
    "class_report = classification_report(y_test, y_pred2, target_names=encoder.classes_)\n",
    "\n",
    "# Print results\n",
    "print(f\"Accuracy: {accuracy}\")\n",
    "print(\"Classification Report:\")\n",
    "print(class_report)\n"
   ]
  },
  {
   "cell_type": "code",
   "execution_count": null,
   "id": "a96658f7",
   "metadata": {},
   "outputs": [],
   "source": [
    "#confusion matrix of model 2\n",
    "import matplotlib.pyplot as plt\n",
    "import seaborn as sns\n",
    "from sklearn.metrics import ConfusionMatrixDisplay\n",
    "from sklearn.metrics import confusion_matrix\n",
    "import numpy as np\n",
    "plt.figure(figsize=(10, 7))\n",
    "cm = confusion_matrix(y_test, y_pred2)\n",
    "cm_display = ConfusionMatrixDisplay(confusion_matrix=cm, display_labels=encoder.classes_)\n",
    "cm_display.plot(cmap=plt.cm.Blues, values_format='d')\n",
    "plt.title('Confusion Matrix Model 2')\n",
    "plt.show()"
   ]
  },
  {
   "cell_type": "markdown",
   "id": "9f7ec994",
   "metadata": {},
   "source": [
    "#Model3: Random forest Classifier with N-Grams"
   ]
  },
  {
   "cell_type": "code",
   "execution_count": 39,
   "id": "b384b96b",
   "metadata": {},
   "outputs": [
    {
     "name": "stdout",
     "output_type": "stream",
     "text": [
      "Requirement already satisfied: imbalanced-learn in c:\\users\\cicily.mathew\\appdata\\local\\programs\\python\\python312\\lib\\site-packages (0.13.0)Note: you may need to restart the kernel to use updated packages.\n",
      "\n",
      "Requirement already satisfied: numpy<3,>=1.24.3 in c:\\users\\cicily.mathew\\appdata\\local\\programs\\python\\python312\\lib\\site-packages (from imbalanced-learn) (1.26.4)\n",
      "Requirement already satisfied: scipy<2,>=1.10.1 in c:\\users\\cicily.mathew\\appdata\\local\\programs\\python\\python312\\lib\\site-packages (from imbalanced-learn) (1.15.1)\n",
      "Requirement already satisfied: scikit-learn<2,>=1.3.2 in c:\\users\\cicily.mathew\\appdata\\local\\programs\\python\\python312\\lib\\site-packages (from imbalanced-learn) (1.6.1)\n",
      "Requirement already satisfied: sklearn-compat<1,>=0.1 in c:\\users\\cicily.mathew\\appdata\\local\\programs\\python\\python312\\lib\\site-packages (from imbalanced-learn) (0.1.3)\n",
      "Requirement already satisfied: joblib<2,>=1.1.1 in c:\\users\\cicily.mathew\\appdata\\local\\programs\\python\\python312\\lib\\site-packages (from imbalanced-learn) (1.4.2)\n",
      "Requirement already satisfied: threadpoolctl<4,>=2.0.0 in c:\\users\\cicily.mathew\\appdata\\local\\programs\\python\\python312\\lib\\site-packages (from imbalanced-learn) (3.5.0)\n",
      "Fitting 2 folds for each of 54 candidates, totalling 108 fits\n",
      "Best Hyperparameters: {'max_depth': None, 'min_samples_leaf': 1, 'min_samples_split': 2, 'n_estimators': 200}\n",
      "Classification Report:\n",
      "              precision    recall  f1-score   support\n",
      "\n",
      "           0       0.76      0.84      0.80      3938\n",
      "           1       0.85      0.88      0.86      3937\n",
      "           2       0.86      0.81      0.84      3856\n",
      "           3       0.69      0.59      0.63      3899\n",
      "           4       0.88      0.95      0.91      3942\n",
      "\n",
      "    accuracy                           0.81     19572\n",
      "   macro avg       0.81      0.81      0.81     19572\n",
      "weighted avg       0.81      0.81      0.81     19572\n",
      "\n",
      "Confusion Matrix:\n",
      "[[3305   68   51  366  148]\n",
      " [  24 3445  130  249   89]\n",
      " [ 127  171 3140  332   86]\n",
      " [ 786  360  291 2291  171]\n",
      " [  79   29   22   81 3731]]\n"
     ]
    }
   ],
   "source": [
    "# Required Libraries\n",
    "import pandas as pd\n",
    "from sklearn.model_selection import train_test_split\n",
    "from sklearn.feature_extraction.text import TfidfVectorizer\n",
    "from sklearn.ensemble import RandomForestClassifier\n",
    "from sklearn.metrics import classification_report, confusion_matrix\n",
    "# Install imbalanced-learn if not already installed\n",
    "%pip install imbalanced-learn\n",
    "\n",
    "# Import SMOTE from imbalanced-learn\n",
    "from imblearn.over_sampling import SMOTE\n",
    "from sklearn.model_selection import GridSearchCV\n",
    "from sklearn.preprocessing import LabelEncoder\n",
    "\n",
    "# Step 2: Vectorize the Text using TF-IDF Vectorization\n",
    "vectorizer = TfidfVectorizer(max_features=1000, stop_words='english', ngram_range=(1, 3))  \n",
    "X = vectorizer.fit_transform(data['cleaned_text'])\n",
    "\n",
    "# Step 3: Balance Classes using SMOTE (Synthetic Minority Over-sampling Technique)\n",
    "y = data['subject_encoded']\n",
    "\n",
    "# Apply SMOTE to balance classes\n",
    "smote = SMOTE(random_state=42, k_neighbors=1)\n",
    "X_res, y_res = smote.fit_resample(X, y)\n",
    "\n",
    "# Step 4: Split the Data into Train and Test Sets\n",
    "X_train, X_test, y_train, y_test = train_test_split(X_res, y_res, test_size=0.3, random_state=42)\n",
    "\n",
    "# Step 5: Train a Random Forest Classifier\n",
    "model = RandomForestClassifier(random_state=42)\n",
    "\n",
    "# Step 6: Fine-Tune the Model using GridSearchCV\n",
    "param_grid = {\n",
    "    'n_estimators': [100, 200],\n",
    "    'max_depth': [10, 20, None],\n",
    "    'min_samples_split': [2, 5, 10],\n",
    "    'min_samples_leaf': [1, 2, 4]\n",
    "}\n",
    "\n",
    "# Use GridSearchCV to find the best hyperparameters\n",
    "grid_search = GridSearchCV(estimator=model, param_grid=param_grid, cv=2, n_jobs=-1, verbose=2)\n",
    "grid_search.fit(X_train, y_train)\n",
    "\n",
    "# Print the best parameters found\n",
    "print(\"Best Hyperparameters:\", grid_search.best_params_)\n",
    "\n",
    "# Step 7: Evaluate the Model\n",
    "best_model = grid_search.best_estimator_\n",
    "\n",
    "# Predict on the test data\n",
    "y_pred3 = best_model.predict(X_test)\n",
    "\n",
    "# Step 8: Evaluate the performance of the model\n",
    "print(\"Classification Report:\")\n",
    "print(classification_report(y_test, y_pred3))\n",
    "\n",
    "# Confusion Matrix\n",
    "print(\"Confusion Matrix:\")\n",
    "print(confusion_matrix(y_test, y_pred3))\n",
    "# Visualize the confusion matrix\n",
    "\n",
    "\n"
   ]
  },
  {
   "cell_type": "code",
   "execution_count": 40,
   "id": "f0839248",
   "metadata": {},
   "outputs": [
    {
     "data": {
      "text/plain": [
       "<Figure size 1000x700 with 0 Axes>"
      ]
     },
     "metadata": {},
     "output_type": "display_data"
    },
    {
     "data": {
      "image/png": "[encoded data removed]",
      "text/plain": [
       "<Figure size 640x480 with 2 Axes>"
      ]
     },
     "metadata": {},
     "output_type": "display_data"
    }
   ],
   "source": [
    "import matplotlib.pyplot as plt\n",
    "import seaborn as sns\n",
    "from sklearn.metrics import ConfusionMatrixDisplay\n",
    "from sklearn.metrics import confusion_matrix\n",
    "import numpy as np\n",
    "plt.figure(figsize=(10, 7))\n",
    "cm = confusion_matrix(y_test, y_pred3)\n",
    "cm_display = ConfusionMatrixDisplay(confusion_matrix=cm, display_labels=encoder.classes_)\n",
    "cm_display.plot(cmap=plt.cm.Blues, values_format='d')\n",
    "plt.title('Confusion Matrix Model 3')\n",
    "plt.show()"
   ]
  },
  {
   "cell_type": "markdown",
   "id": "113afd4d",
   "metadata": {},
   "source": [
    "What kind of models did you try and why?\n",
    "\n",
    "Tried different variations of Logistic regression with each column seperately and combined along with SVM and random forest classifier with techniques BOW, N-GRAM MODELS(1-3) and lemmatization. Final 3 models are #Model 1: Ensemble of 1000 logistic regression model using BOW, #Model 2: Using Logistic regression with Lemmatization for prediction, #Model3: Random forest Classifier with N-grams."
   ]
  },
  {
   "cell_type": "markdown",
   "id": "fa36cbda",
   "metadata": {},
   "source": [
    "How did you evaluate the model and which metric do you think is most important.\n",
    "Focus on evaluating the model based on accuracy rather than performance, as the university prioritizes relevance for search results. The model can run overnight to classify the documents, so performance is less of a concern."
   ]
  },
  {
   "cell_type": "markdown",
   "id": "adef7eea",
   "metadata": {},
   "source": [
    "How did you investigate misclassifications?\n",
    "\n",
    "Misclassifications were investigated with classification report, confusion matrix and further by probablistic approach of taking the probabilities of each class and then manually looking at the classes and their misclassifications."
   ]
  },
  {
   "cell_type": "code",
   "execution_count": null,
   "id": "3b717b69",
   "metadata": {},
   "outputs": [
    {
     "name": "stdout",
     "output_type": "stream",
     "text": [
      "\n",
      "Top words for class 0:\n",
      "paper: 0.0187\n",
      "patients: 0.0118\n",
      "social: 0.0104\n",
      "energy: 0.0098\n",
      "background: 0.0095\n",
      "disease: 0.0087\n",
      "species: 0.0086\n",
      "methods: 0.0084\n",
      "evidence: 0.0080\n",
      "clinical: 0.0074\n",
      "\n",
      "Top words for class 1:\n",
      "paper: 0.0187\n",
      "patients: 0.0118\n",
      "social: 0.0104\n",
      "energy: 0.0098\n",
      "background: 0.0095\n",
      "disease: 0.0087\n",
      "species: 0.0086\n",
      "methods: 0.0084\n",
      "evidence: 0.0080\n",
      "clinical: 0.0074\n",
      "\n",
      "Top words for class 2:\n",
      "paper: 0.0187\n",
      "patients: 0.0118\n",
      "social: 0.0104\n",
      "energy: 0.0098\n",
      "background: 0.0095\n",
      "disease: 0.0087\n",
      "species: 0.0086\n",
      "methods: 0.0084\n",
      "evidence: 0.0080\n",
      "clinical: 0.0074\n",
      "\n",
      "Top words for class 3:\n",
      "paper: 0.0187\n",
      "patients: 0.0118\n",
      "social: 0.0104\n",
      "energy: 0.0098\n",
      "background: 0.0095\n",
      "disease: 0.0087\n",
      "species: 0.0086\n",
      "methods: 0.0084\n",
      "evidence: 0.0080\n",
      "clinical: 0.0074\n",
      "\n",
      "Top words for class 4:\n",
      "paper: 0.0187\n",
      "patients: 0.0118\n",
      "social: 0.0104\n",
      "energy: 0.0098\n",
      "background: 0.0095\n",
      "disease: 0.0087\n",
      "species: 0.0086\n",
      "methods: 0.0084\n",
      "evidence: 0.0080\n",
      "clinical: 0.0074\n"
     ]
    }
   ],
   "source": [
    "import numpy as np\n",
    "\n",
    "num_top_words = 10\n",
    "\n",
    "\n",
    "# Get feature importances from the Random Forest model\n",
    "weights = best_model.feature_importances_\n",
    "\n",
    "# Get the feature names (words)\n",
    "feature_names = vectorizer.get_feature_names_out()\n",
    "\n",
    "# Iterate over each class with correct class label\n",
    "for class_label in range(len(best_model.classes_)):\n",
    "\n",
    "    # Sort the features by their importance for the current class\n",
    "    top_features = np.argsort(weights)[-num_top_words:][::-1]\n",
    "\n",
    "    # Extract top words and their corresponding importance\n",
    "    top_words = [feature_names[feat_idx] for feat_idx in top_features]  # Map indices to words\n",
    "    top_weights = [weights[feat_idx] for feat_idx in top_features]  # Extract corresponding importances\n",
    "\n",
    "    # Print words with importances\n",
    "    print(f\"\\nTop words for class {best_model.classes_[class_label]}:\")\n",
    "    for word, weight in zip(top_words, top_weights):\n",
    "        print(f\"{word}: {weight:.4f}\")  # Display the feature importance (not log prob)\n"
   ]
  },
  {
   "cell_type": "markdown",
   "id": "03a25a07",
   "metadata": {},
   "source": [
    "Were the misclassifications understandable (genuinely difficult examples) or were they blatant errors? Provide a few examples.\n",
    "\n",
    "Looking at the 5 examples of misclassification samples generated in the below code we can clearly see the challenge due to the overlap in domain-specific terms like 'technology' being mentioned in reference to a health consequence. Hence some were understandable but there were few blatant errors as well.\n",
    "\n",
    "1. \"Post-acute consequences currently form a significant component of the dengue disability-adjusted life year (DALY) burden estimates. However, there is considerable uncertainty regarding the incidence, duration, and severity of these symptoms. Further research is needed to more accurately estimate the health and economic burden of these dengue manifestations. The Uncertainty Surrounding the Burden of Post-acute Consequences of Dengue Infection\"\n",
    "\n",
    "Looks like the Eng-tech paper was tagged as phy-sci as it lacks strong keywords typically associated with the engineering technology domain, leading to its misclassification.\n",
    "\n",
    "2. Vibro-acoustic source characterization is an essential task in vehicle development to enable prediction of receiver response. For structure-borne noise, the interface forces in multiple degrees of freedom due to internal loads are often quantified for root cause analyses in a single system assembly, as in transfer path analysis (TPA). However, for a reliable prognosis of the acoustic performance of a known component such as a motor or pump, a receiver-independent source characterization is required, and the method of acquiring blocked forces ...............\". \n",
    "\n",
    "Looks like this miclassification could be a pure blunter as there are many engineering specific words mentioned but the most common ones were not present.  \n"
   ]
  },
  {
   "cell_type": "code",
   "execution_count": 59,
   "id": "c0356d3f",
   "metadata": {},
   "outputs": [],
   "source": [
    "pred_probas = best_model.predict_proba(X_test).round(3) # probabilities for each class\n",
    "\n",
    "X_test_df = (\n",
    "    pd.DataFrame(X_test.toarray())  # Convert sparse matrix to dense DataFrame\n",
    "    .assign( # adding actual and predicted labels\n",
    "        actual_label=encoder.inverse_transform(y_test),\n",
    "        predicted_label=encoder.inverse_transform(pred_probas.argmax(axis=1)),\n",
    "    )\n",
    "    .reset_index(drop=True)\n",
    ")\n",
    "\n",
    "pred_proba_df = pd.DataFrame(pred_probas, columns=encoder.classes_) # adding probabilities for each class\n",
    "results_df = pd.concat([X_test_df, pred_proba_df], axis=1)"
   ]
  },
  {
   "cell_type": "code",
   "execution_count": null,
   "id": "5526fd7d",
   "metadata": {},
   "outputs": [
    {
     "name": "stdout",
     "output_type": "stream",
     "text": [
      "Misclassified samples:\n",
      "   actual_label predicted_label  engi_tech  healh_sci  life_sci  phys_sci  \\\n",
      "1     engi_tech        phys_sci      0.245      0.020     0.090     0.595   \n",
      "4     engi_tech       healh_sci      0.100      0.275     0.235     0.195   \n",
      "15     phys_sci       engi_tech      0.515      0.020     0.040     0.390   \n",
      "17     phys_sci       engi_tech      0.575      0.005     0.070     0.350   \n",
      "18    engi_tech        phys_sci      0.325      0.050     0.260     0.355   \n",
      "\n",
      "    soc_sci  \n",
      "1     0.050  \n",
      "4     0.195  \n",
      "15    0.035  \n",
      "17    0.000  \n",
      "18    0.010  \n"
     ]
    }
   ],
   "source": [
    "import pandas as pd\n",
    "\n",
    "# Step 1: Get the predicted labels\n",
    "predicted_labels = best_model.predict(X_test)\n",
    "\n",
    "# Step 2: Get predicted probabilities\n",
    "pred_probas = best_model.predict_proba(X_test).round(3)\n",
    "\n",
    "# Step 3: Reverse the encoding of the actual labels\n",
    "X_test_df = (\n",
    "    pd.DataFrame(X_test.toarray())  # Convert sparse matrix to dense DataFrame\n",
    "    .assign(  # Adding actual and predicted labels\n",
    "        actual_label=encoder.inverse_transform(y_test),\n",
    "        predicted_label=encoder.inverse_transform(predicted_labels),\n",
    "    )\n",
    "    .reset_index(drop=True)\n",
    ")\n",
    "\n",
    "# Step 4: Add predicted probabilities for each class\n",
    "pred_proba_df = pd.DataFrame(pred_probas, columns=encoder.classes_)\n",
    "\n",
    "# Step 5: Combine both DataFrames\n",
    "results_df = pd.concat([X_test_df, pred_proba_df], axis=1)\n",
    "\n",
    "# Step 6: Filter misclassified rows\n",
    "misclassified_df = results_df[results_df['actual_label'] != results_df['predicted_label']]\n",
    "\n"
   ]
  },
  {
   "cell_type": "code",
   "execution_count": 60,
   "id": "252a2a45",
   "metadata": {},
   "outputs": [
    {
     "name": "stdout",
     "output_type": "stream",
     "text": [
      "Misclassified samples with text:\n",
      "                                                 text actual_label  \\\n",
      "1   Post-acute consequences currently form a signi...    engi_tech   \n",
      "4   Vibro-acoustic source characterization is an e...    engi_tech   \n",
      "15  Does personality predict how people feel in di...     phys_sci   \n",
      "17  The use of a highly resistive transparent (HRT...     phys_sci   \n",
      "18  We consider tropical hemispaces, defined as tr...    engi_tech   \n",
      "\n",
      "   predicted_label  engi_tech  healh_sci  life_sci  phys_sci  soc_sci  \n",
      "1         phys_sci      0.245      0.020     0.090     0.595    0.050  \n",
      "4        healh_sci      0.100      0.275     0.235     0.195    0.195  \n",
      "15       engi_tech      0.515      0.020     0.040     0.390    0.035  \n",
      "17       engi_tech      0.575      0.005     0.070     0.350    0.000  \n",
      "18        phys_sci      0.325      0.050     0.260     0.355    0.010  \n"
     ]
    }
   ],
   "source": [
    "\n",
    "# Merge the misclassified_df with the original 'data['text']' column using the index\n",
    "misclassified_with_text = misclassified_df.merge(\n",
    "    data[['text']], left_index=True, right_index=True, how='left'\n",
    ")\n",
    "\n",
    "# Step 2: Display the misclassified rows with the actual text\n",
    "print(\"Misclassified samples with text:\")\n",
    "print(misclassified_with_text[['text', 'actual_label', 'predicted_label', *encoder.classes_]].head())\n",
    "# Save the misclassified samples to a CSV file\n",
    "misclassified_with_text.to_csv('misclassified_samples.csv', index=False)\n"
   ]
  }
 ],
 "metadata": {
  "kernelspec": {
   "display_name": "Python 3",
   "language": "python",
   "name": "python3"
  },
  "language_info": {
   "codemirror_mode": {
    "name": "ipython",
    "version": 3
   },
   "file_extension": ".py",
   "mimetype": "text/x-python",
   "name": "python",
   "nbconvert_exporter": "python",
   "pygments_lexer": "ipython3",
   "version": "3.12.8"
  }
 },
 "nbformat": 4,
 "nbformat_minor": 5
}
